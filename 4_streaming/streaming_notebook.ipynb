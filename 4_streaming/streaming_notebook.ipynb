{
 "cells": [
  {
   "cell_type": "markdown",
   "metadata": {},
   "source": [
    "## Streaming\n",
    "\n",
    "Perform the data analysis in a “streaming” manner (treat data as streaming). \n",
    "\n",
    "Use Kafka as a message broker and write a custom producer (reading data from files) and a custom consumer\n",
    "(for processing data). \n",
    "\n",
    "Since data is (with few exceptions, most likely errors) ordered by the “summons number” you can assume that the lines in CSV files are in chronological order\n",
    "(important for producing Kafka messages). \n",
    "\n",
    "Decide if using different topics can help you. \n",
    "\n",
    "Show rolling descriptive statistics (mean, standard deviation, …, think of at least three more) for all data, boroughs, and for the 10 most interesting streets (with highest numbers of tickets overall, or by your qualified choice). \n",
    "\n",
    "For the same data, choose, implement, and apply a stream clustering algorithm (preferably spatial clustering) of your choice [7].\n",
    "\n",
    "Note: stream processing is better not performed in the Arnes cluster."
   ]
  },
  {
   "cell_type": "code",
   "execution_count": null,
   "metadata": {},
   "outputs": [],
   "source": []
  }
 ],
 "metadata": {
  "language_info": {
   "name": "python"
  }
 },
 "nbformat": 4,
 "nbformat_minor": 2
}
