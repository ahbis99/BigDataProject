{
 "cells": [
  {
   "cell_type": "code",
   "execution_count": 170,
   "metadata": {},
   "outputs": [],
   "source": [
    "import pandas as pd"
   ]
  },
  {
   "cell_type": "code",
   "execution_count": 171,
   "metadata": {},
   "outputs": [
    {
     "data": {
      "text/plain": [
       "(281413, 27)"
      ]
     },
     "execution_count": 171,
     "metadata": {},
     "output_type": "execute_result"
    }
   ],
   "source": [
    "biz = pd.read_csv(\"../datasets/biz/biz.csv\", dtype='string')\n",
    "biz.shape"
   ]
  },
  {
   "cell_type": "code",
   "execution_count": 172,
   "metadata": {},
   "outputs": [
    {
     "data": {
      "text/plain": [
       "(170627, 27)"
      ]
     },
     "execution_count": 172,
     "metadata": {},
     "output_type": "execute_result"
    }
   ],
   "source": [
    "biz.dropna(subset=['Address Street Name'], inplace=True)\n",
    "biz.dropna(subset=['Borough Code'], inplace=True)\n",
    "biz.shape"
   ]
  },
  {
   "cell_type": "code",
   "execution_count": 173,
   "metadata": {},
   "outputs": [],
   "source": [
    "# Define column widths\n",
    "colspecs = [(2, 34), (36, 37), (37, 42)]\n",
    "\n",
    "# Read the file\n",
    "sc = pd.read_fwf('../datasets/street_dict.txt', colspecs=colspecs, header=None, names=[\"address_name\", \"borough\", \"street_code\"], dtype='string')"
   ]
  },
  {
   "cell_type": "code",
   "execution_count": 174,
   "metadata": {},
   "outputs": [],
   "source": [
    "biz['Address Street Name'] = biz['Address Street Name'].str.lower()\n",
    "sc['address_name'] = sc['address_name'].str.lower()\n",
    "\n",
    "# Remove extra whitespaces between words in 'Address Street Name' and 'address_name'\n",
    "biz['Address Street Name'] = biz['Address Street Name'].str.replace('\\s+', ' ', regex=True)\n",
    "sc['address_name'] = sc['address_name'].str.replace('\\s+', ' ', regex=True)\n",
    "\n",
    "# Remove suffixes like 'th', 'st', 'nd', 'rd' from 'Address Street Name'\n",
    "biz['Address Street Name'] = biz['Address Street Name'].str.replace('(\\d+)(st|nd|rd|th)', r'\\1', regex=True)\n",
    "biz['Address Street Name'] = biz['Address Street Name'].str.replace(' ave. ', ' avenue ')\n",
    "biz['Address Street Name'] = biz['Address Street Name'].str.replace(' ave ', ' avenue ')\n",
    "biz['Address Street Name'] = biz['Address Street Name'].str.replace(' ave$', ' avenue', regex=True)\n",
    "biz['Address Street Name'] = biz['Address Street Name'].str.replace(' st ', ' street ')\n",
    "biz['Address Street Name'] = biz['Address Street Name'].str.replace(' st$', ' street', regex=True)\n",
    "biz['Address Street Name'] = biz['Address Street Name'].str.replace('st.', 'st')\n",
    "biz['Address Street Name'] = biz['Address Street Name'].str.replace('^w ', 'west ', regex=True)\n",
    "biz['Address Street Name'] = biz['Address Street Name'].str.replace(' w$', ' west', regex=True)\n",
    "biz['Address Street Name'] = biz['Address Street Name'].str.replace('^e ', 'east ', regex=True)\n",
    "biz['Address Street Name'] = biz['Address Street Name'].str.replace('blvd', 'boulevard', regex=True)\n",
    "biz['Address Street Name'] = biz['Address Street Name'].str.replace(' rd$', ' road', regex=True)\n",
    "biz['Address Street Name'] = biz['Address Street Name'].str.replace(' rd ', ' road ', regex=True)\n",
    "biz['Address Street Name'] = biz['Address Street Name'].str.replace('saint', 'st', regex=True)\n",
    "biz['Address Street Name'] = biz['Address Street Name'].str.replace(' pl$', ' place', regex=True)\n",
    "biz['Address Street Name'] = biz['Address Street Name'].str.replace('pkwy', 'parkway', regex=True)\n",
    "biz['Address Street Name'] = biz['Address Street Name'].str.replace(' dr$', ' drive', regex=True)\n",
    "biz['Address Street Name'] = biz['Address Street Name'].str.replace('^s ', 'south ', regex=True)\n",
    "biz['Address Street Name'] = biz['Address Street Name'].str.replace(' cir$', ' circle', regex=True)\n",
    "biz['Address Street Name'] = biz['Address Street Name'].str.replace(' ter$', ' terrace', regex=True)\n",
    "biz['Address Street Name'] = biz['Address Street Name'].str.replace(' expy$', ' expressway', regex=True)\n",
    "biz['Address Street Name'] = biz['Address Street Name'].str.replace(' hwy$', ' highway', regex=True)"
   ]
  },
  {
   "cell_type": "code",
   "execution_count": 175,
   "metadata": {},
   "outputs": [],
   "source": [
    "# Merge 'biz' and 'sc' on 'address_name'/'Address Street Name' and 'borough'/'Borough Code'\n",
    "merged = sc.merge(biz, left_on=['address_name', 'borough'], right_on=['Address Street Name', 'Borough Code'])"
   ]
  },
  {
   "cell_type": "code",
   "execution_count": 176,
   "metadata": {},
   "outputs": [
    {
     "data": {
      "text/plain": [
       "(164108, 30)"
      ]
     },
     "execution_count": 176,
     "metadata": {},
     "output_type": "execute_result"
    }
   ],
   "source": [
    "merged.shape"
   ]
  },
  {
   "cell_type": "code",
   "execution_count": 177,
   "metadata": {},
   "outputs": [
    {
     "data": {
      "text/plain": [
       "Index(['address_name', 'borough', 'street_code', 'DCA License Number',\n",
       "       'License Type', 'License Expiration Date', 'License Status',\n",
       "       'License Creation Date', 'Industry', 'Business Name', 'Business Name 2',\n",
       "       'Address Building', 'Address Street Name',\n",
       "       'Secondary Address Street Name', 'Address City', 'Address State',\n",
       "       'Address ZIP', 'Contact Phone Number', 'Address Borough',\n",
       "       'Borough Code', 'Community Board', 'Council District', 'BIN', 'BBL',\n",
       "       'NTA', 'Census Tract', 'Detail', 'Longitude', 'Latitude', 'Location'],\n",
       "      dtype='object')"
      ]
     },
     "execution_count": 177,
     "metadata": {},
     "output_type": "execute_result"
    }
   ],
   "source": [
    "merged.columns"
   ]
  },
  {
   "cell_type": "markdown",
   "metadata": {},
   "source": [
    "Keep only how many businesses are on each street and save that"
   ]
  },
  {
   "cell_type": "code",
   "execution_count": 178,
   "metadata": {},
   "outputs": [
    {
     "data": {
      "text/html": [
       "<div>\n",
       "<style scoped>\n",
       "    .dataframe tbody tr th:only-of-type {\n",
       "        vertical-align: middle;\n",
       "    }\n",
       "\n",
       "    .dataframe tbody tr th {\n",
       "        vertical-align: top;\n",
       "    }\n",
       "\n",
       "    .dataframe thead th {\n",
       "        text-align: right;\n",
       "    }\n",
       "</style>\n",
       "<table border=\"1\" class=\"dataframe\">\n",
       "  <thead>\n",
       "    <tr style=\"text-align: right;\">\n",
       "      <th></th>\n",
       "      <th>borough</th>\n",
       "      <th>address_name</th>\n",
       "      <th>num_businesses</th>\n",
       "      <th>street_code</th>\n",
       "    </tr>\n",
       "  </thead>\n",
       "  <tbody>\n",
       "    <tr>\n",
       "      <th>2</th>\n",
       "      <td>1</td>\n",
       "      <td>1 avenue</td>\n",
       "      <td>1183</td>\n",
       "      <td>10010</td>\n",
       "    </tr>\n",
       "    <tr>\n",
       "      <th>7</th>\n",
       "      <td>1</td>\n",
       "      <td>2 avenue</td>\n",
       "      <td>1617</td>\n",
       "      <td>10110</td>\n",
       "    </tr>\n",
       "    <tr>\n",
       "      <th>10</th>\n",
       "      <td>1</td>\n",
       "      <td>3 avenue</td>\n",
       "      <td>1337</td>\n",
       "      <td>10210</td>\n",
       "    </tr>\n",
       "    <tr>\n",
       "      <th>15</th>\n",
       "      <td>1</td>\n",
       "      <td>4 avenue</td>\n",
       "      <td>46</td>\n",
       "      <td>10350</td>\n",
       "    </tr>\n",
       "    <tr>\n",
       "      <th>17</th>\n",
       "      <td>1</td>\n",
       "      <td>5 avenue</td>\n",
       "      <td>839</td>\n",
       "      <td>10410</td>\n",
       "    </tr>\n",
       "    <tr>\n",
       "      <th>...</th>\n",
       "      <td>...</td>\n",
       "      <td>...</td>\n",
       "      <td>...</td>\n",
       "      <td>...</td>\n",
       "    </tr>\n",
       "    <tr>\n",
       "      <th>21811</th>\n",
       "      <td>5</td>\n",
       "      <td>yeomalt avenue</td>\n",
       "      <td>1</td>\n",
       "      <td>56485</td>\n",
       "    </tr>\n",
       "    <tr>\n",
       "      <th>21814</th>\n",
       "      <td>5</td>\n",
       "      <td>yetman avenue</td>\n",
       "      <td>11</td>\n",
       "      <td>56500</td>\n",
       "    </tr>\n",
       "    <tr>\n",
       "      <th>21816</th>\n",
       "      <td>5</td>\n",
       "      <td>york avenue</td>\n",
       "      <td>1</td>\n",
       "      <td>56600</td>\n",
       "    </tr>\n",
       "    <tr>\n",
       "      <th>21817</th>\n",
       "      <td>5</td>\n",
       "      <td>york terrace</td>\n",
       "      <td>1</td>\n",
       "      <td>56615</td>\n",
       "    </tr>\n",
       "    <tr>\n",
       "      <th>21826</th>\n",
       "      <td>5</td>\n",
       "      <td>zephyr avenue</td>\n",
       "      <td>2</td>\n",
       "      <td>56696</td>\n",
       "    </tr>\n",
       "  </tbody>\n",
       "</table>\n",
       "<p>5132 rows × 4 columns</p>\n",
       "</div>"
      ],
      "text/plain": [
       "      borough    address_name  num_businesses street_code\n",
       "2           1        1 avenue            1183       10010\n",
       "7           1        2 avenue            1617       10110\n",
       "10          1        3 avenue            1337       10210\n",
       "15          1        4 avenue              46       10350\n",
       "17          1        5 avenue             839       10410\n",
       "...       ...             ...             ...         ...\n",
       "21811       5  yeomalt avenue               1       56485\n",
       "21814       5   yetman avenue              11       56500\n",
       "21816       5     york avenue               1       56600\n",
       "21817       5    york terrace               1       56615\n",
       "21826       5   zephyr avenue               2       56696\n",
       "\n",
       "[5132 rows x 4 columns]"
      ]
     },
     "execution_count": 178,
     "metadata": {},
     "output_type": "execute_result"
    }
   ],
   "source": [
    "counts = merged.groupby(['street_code', 'borough', 'address_name']).size().reset_index(name='num_businesses')\n",
    "merged_counts = counts.merge(sc, on=['address_name', 'borough'], how='right')\n",
    "merged_counts.fillna({'num_businesses': 0}, inplace = True)\n",
    "merged_counts['num_businesses'] = merged_counts['num_businesses'].astype(int)\n",
    "merged_counts.drop(columns=['street_code_x'], inplace=True)\n",
    "merged_counts.rename(columns={'street_code_y': 'street_code'}, inplace=True)\n",
    "\n",
    "merged_counts[merged_counts['num_businesses'] > 0]"
   ]
  },
  {
   "cell_type": "code",
   "execution_count": 179,
   "metadata": {},
   "outputs": [],
   "source": [
    "# Mappin based on documentation from here: https://data.cityofnewyork.us/City-Government/Street-Name-Dictionary/w4v2-rv6b/about_data\n",
    "merged.loc[merged.borough == \"1\", \"borough\"] = 'NY'\n",
    "merged.loc[merged.borough == \"2\", \"borough\"] = 'BX'\n",
    "merged.loc[merged.borough == \"3\", \"borough\"] = 'K'\n",
    "merged.loc[merged.borough == \"4\", \"borough\"] = 'Q'\n",
    "merged.loc[merged.borough == \"5\", \"borough\"] = 'R'\n",
    "\n",
    "\n",
    "# Mappin based on documentation from here: https://data.cityofnewyork.us/City-Government/Street-Name-Dictionary/w4v2-rv6b/about_data\n",
    "merged_counts.loc[merged_counts.borough == \"1\", \"borough\"] = 'NY'\n",
    "merged_counts.loc[merged_counts.borough == \"2\", \"borough\"] = 'BX'\n",
    "merged_counts.loc[merged_counts.borough == \"3\", \"borough\"] = 'K'\n",
    "merged_counts.loc[merged_counts.borough == \"4\", \"borough\"] = 'Q'\n",
    "merged_counts.loc[merged_counts.borough == \"5\", \"borough\"] = 'R'"
   ]
  },
  {
   "cell_type": "code",
   "execution_count": 181,
   "metadata": {},
   "outputs": [],
   "source": [
    "merged_counts.to_parquet(\"../datasets/biz/biz_per_street.parquet\", compression='snappy')\n",
    "merged.to_parquet(\"../datasets/biz/biz_with_sc.parquet\", compression='snappy')"
   ]
  },
  {
   "cell_type": "markdown",
   "metadata": {},
   "source": [
    "The below code is used to see which streets are missing so I can add rules to fix them"
   ]
  },
  {
   "cell_type": "code",
   "execution_count": 182,
   "metadata": {},
   "outputs": [],
   "source": [
    "# Right join 'biz' and 'sc' on 'address_name'/'Address Street Name' and 'borough'/'Borough Code'\n",
    "merged = sc.merge(biz, left_on=['address_name', 'borough'], right_on=['Address Street Name', 'Borough Code'], how='right')\n",
    "\n",
    "# Filter rows where 'address_name' is NA\n",
    "filtered = merged[merged['address_name'].isna()]"
   ]
  },
  {
   "cell_type": "code",
   "execution_count": 183,
   "metadata": {},
   "outputs": [
    {
     "data": {
      "text/html": [
       "<div>\n",
       "<style scoped>\n",
       "    .dataframe tbody tr th:only-of-type {\n",
       "        vertical-align: middle;\n",
       "    }\n",
       "\n",
       "    .dataframe tbody tr th {\n",
       "        vertical-align: top;\n",
       "    }\n",
       "\n",
       "    .dataframe thead th {\n",
       "        text-align: right;\n",
       "    }\n",
       "</style>\n",
       "<table border=\"1\" class=\"dataframe\">\n",
       "  <thead>\n",
       "    <tr style=\"text-align: right;\">\n",
       "      <th></th>\n",
       "      <th>Address Street Name</th>\n",
       "      <th>Borough Code</th>\n",
       "    </tr>\n",
       "  </thead>\n",
       "  <tbody>\n",
       "    <tr>\n",
       "      <th>77</th>\n",
       "      <td>6 avenue</td>\n",
       "      <td>1</td>\n",
       "    </tr>\n",
       "    <tr>\n",
       "      <th>197</th>\n",
       "      <td>dr martin l king jr boulevard</td>\n",
       "      <td>2</td>\n",
       "    </tr>\n",
       "    <tr>\n",
       "      <th>198</th>\n",
       "      <td>frederick douglass boulevard</td>\n",
       "      <td>1</td>\n",
       "    </tr>\n",
       "    <tr>\n",
       "      <th>207</th>\n",
       "      <td>vanderwater avenue</td>\n",
       "      <td>4</td>\n",
       "    </tr>\n",
       "    <tr>\n",
       "      <th>245</th>\n",
       "      <td>whitestone expressway</td>\n",
       "      <td>4</td>\n",
       "    </tr>\n",
       "    <tr>\n",
       "      <th>261</th>\n",
       "      <td>6 avenue</td>\n",
       "      <td>1</td>\n",
       "    </tr>\n",
       "    <tr>\n",
       "      <th>319</th>\n",
       "      <td>mcclean avenue</td>\n",
       "      <td>5</td>\n",
       "    </tr>\n",
       "    <tr>\n",
       "      <th>351</th>\n",
       "      <td>main avenue</td>\n",
       "      <td>2</td>\n",
       "    </tr>\n",
       "    <tr>\n",
       "      <th>358</th>\n",
       "      <td>union tpke</td>\n",
       "      <td>4</td>\n",
       "    </tr>\n",
       "    <tr>\n",
       "      <th>365</th>\n",
       "      <td>horace harding expressway</td>\n",
       "      <td>4</td>\n",
       "    </tr>\n",
       "  </tbody>\n",
       "</table>\n",
       "</div>"
      ],
      "text/plain": [
       "               Address Street Name Borough Code\n",
       "77                        6 avenue            1\n",
       "197  dr martin l king jr boulevard            2\n",
       "198   frederick douglass boulevard            1\n",
       "207             vanderwater avenue            4\n",
       "245          whitestone expressway            4\n",
       "261                       6 avenue            1\n",
       "319                 mcclean avenue            5\n",
       "351                    main avenue            2\n",
       "358                     union tpke            4\n",
       "365      horace harding expressway            4"
      ]
     },
     "execution_count": 183,
     "metadata": {},
     "output_type": "execute_result"
    }
   ],
   "source": [
    "filtered[['Address Street Name', 'Borough Code']].head(10)"
   ]
  }
 ],
 "metadata": {
  "kernelspec": {
   "display_name": ".venv",
   "language": "python",
   "name": "python3"
  },
  "language_info": {
   "codemirror_mode": {
    "name": "ipython",
    "version": 3
   },
   "file_extension": ".py",
   "mimetype": "text/x-python",
   "name": "python",
   "nbconvert_exporter": "python",
   "pygments_lexer": "ipython3",
   "version": "3.11.8"
  }
 },
 "nbformat": 4,
 "nbformat_minor": 2
}
