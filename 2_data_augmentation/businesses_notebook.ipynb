{
 "cells": [
  {
   "cell_type": "code",
   "execution_count": 1,
   "metadata": {},
   "outputs": [],
   "source": [
    "import pandas as pd"
   ]
  },
  {
   "cell_type": "markdown",
   "metadata": {},
   "source": [
    "Data source: https://data.cityofnewyork.us/Business/Legally-Operating-Businesses/w7w3-xahh \\\n",
    "Street code data source: https://data.cityofnewyork.us/City-Government/Street-Name-Dictionary/w4v2-rv6b"
   ]
  },
  {
   "cell_type": "code",
   "execution_count": 4,
   "metadata": {},
   "outputs": [
    {
     "data": {
      "text/html": [
       "<div>\n",
       "<style scoped>\n",
       "    .dataframe tbody tr th:only-of-type {\n",
       "        vertical-align: middle;\n",
       "    }\n",
       "\n",
       "    .dataframe tbody tr th {\n",
       "        vertical-align: top;\n",
       "    }\n",
       "\n",
       "    .dataframe thead th {\n",
       "        text-align: right;\n",
       "    }\n",
       "</style>\n",
       "<table border=\"1\" class=\"dataframe\">\n",
       "  <thead>\n",
       "    <tr style=\"text-align: right;\">\n",
       "      <th></th>\n",
       "      <th>Industry</th>\n",
       "      <th>Business Name</th>\n",
       "      <th>Business Name 2</th>\n",
       "      <th>DCA License Number</th>\n",
       "      <th>street_code</th>\n",
       "      <th>address_name</th>\n",
       "      <th>borough</th>\n",
       "      <th>License Type</th>\n",
       "    </tr>\n",
       "  </thead>\n",
       "  <tbody>\n",
       "    <tr>\n",
       "      <th>7</th>\n",
       "      <td>Electronic Cigarette Dealer</td>\n",
       "      <td>ZIAN ENTERPRISE INC.</td>\n",
       "      <td>&lt;NA&gt;</td>\n",
       "      <td>2070748-1-DCA</td>\n",
       "      <td>10010</td>\n",
       "      <td>1 avenue</td>\n",
       "      <td>NY</td>\n",
       "      <td>Business</td>\n",
       "    </tr>\n",
       "    <tr>\n",
       "      <th>8</th>\n",
       "      <td>Tobacco Retail Dealer</td>\n",
       "      <td>KANAN DELI &amp; GRILL CORP.</td>\n",
       "      <td>&lt;NA&gt;</td>\n",
       "      <td>2059971-2-DCA</td>\n",
       "      <td>10010</td>\n",
       "      <td>1 avenue</td>\n",
       "      <td>NY</td>\n",
       "      <td>Business</td>\n",
       "    </tr>\n",
       "    <tr>\n",
       "      <th>10</th>\n",
       "      <td>Home Improvement Contractor</td>\n",
       "      <td>TENOCH FLOORS INC</td>\n",
       "      <td>LIGNUM</td>\n",
       "      <td>2114713-DCA</td>\n",
       "      <td>10010</td>\n",
       "      <td>1 avenue</td>\n",
       "      <td>NY</td>\n",
       "      <td>Business</td>\n",
       "    </tr>\n",
       "    <tr>\n",
       "      <th>11</th>\n",
       "      <td>Secondhand Dealer - General</td>\n",
       "      <td>WIRELESS ONE ON FIRST AVENUE INC</td>\n",
       "      <td>WIRELESS ONE</td>\n",
       "      <td>2033216-DCA</td>\n",
       "      <td>10010</td>\n",
       "      <td>1 avenue</td>\n",
       "      <td>NY</td>\n",
       "      <td>Business</td>\n",
       "    </tr>\n",
       "    <tr>\n",
       "      <th>12</th>\n",
       "      <td>Electronic Cigarette Dealer</td>\n",
       "      <td>SHAIKH, TASMIMBANU A</td>\n",
       "      <td>71ST STREET NEWSSTAND</td>\n",
       "      <td>2073086-1-DCA</td>\n",
       "      <td>10010</td>\n",
       "      <td>1 avenue</td>\n",
       "      <td>NY</td>\n",
       "      <td>Business</td>\n",
       "    </tr>\n",
       "  </tbody>\n",
       "</table>\n",
       "</div>"
      ],
      "text/plain": [
       "                       Industry                     Business Name  \\\n",
       "7   Electronic Cigarette Dealer              ZIAN ENTERPRISE INC.   \n",
       "8         Tobacco Retail Dealer          KANAN DELI & GRILL CORP.   \n",
       "10  Home Improvement Contractor                 TENOCH FLOORS INC   \n",
       "11  Secondhand Dealer - General  WIRELESS ONE ON FIRST AVENUE INC   \n",
       "12  Electronic Cigarette Dealer              SHAIKH, TASMIMBANU A   \n",
       "\n",
       "          Business Name 2 DCA License Number street_code address_name borough  \\\n",
       "7                    <NA>      2070748-1-DCA       10010     1 avenue      NY   \n",
       "8                    <NA>      2059971-2-DCA       10010     1 avenue      NY   \n",
       "10                 LIGNUM        2114713-DCA       10010     1 avenue      NY   \n",
       "11           WIRELESS ONE        2033216-DCA       10010     1 avenue      NY   \n",
       "12  71ST STREET NEWSSTAND      2073086-1-DCA       10010     1 avenue      NY   \n",
       "\n",
       "   License Type  \n",
       "7      Business  \n",
       "8      Business  \n",
       "10     Business  \n",
       "11     Business  \n",
       "12     Business  "
      ]
     },
     "execution_count": 4,
     "metadata": {},
     "output_type": "execute_result"
    }
   ],
   "source": [
    "df = pd.read_parquet(\"../datasets/biz/biz_with_sc.parquet\")\n",
    "df.head()"
   ]
  },
  {
   "cell_type": "code",
   "execution_count": 217,
   "metadata": {},
   "outputs": [
    {
     "data": {
      "text/plain": [
       "(281413, 27)"
      ]
     },
     "execution_count": 217,
     "metadata": {},
     "output_type": "execute_result"
    }
   ],
   "source": [
    "biz = pd.read_csv(\"../datasets/biz/biz.csv\", dtype='string')\n",
    "biz.shape"
   ]
  },
  {
   "cell_type": "markdown",
   "metadata": {},
   "source": [
    "Remove rows with missing addresses or boroughs"
   ]
  },
  {
   "cell_type": "code",
   "execution_count": 218,
   "metadata": {},
   "outputs": [
    {
     "data": {
      "text/plain": [
       "(170627, 27)"
      ]
     },
     "execution_count": 218,
     "metadata": {},
     "output_type": "execute_result"
    }
   ],
   "source": [
    "biz.dropna(subset=['Address Street Name'], inplace=True)\n",
    "biz.dropna(subset=['Borough Code'], inplace=True)\n",
    "biz.shape"
   ]
  },
  {
   "cell_type": "code",
   "execution_count": 219,
   "metadata": {},
   "outputs": [],
   "source": [
    "# Define column widths\n",
    "colspecs = [(2, 34), (36, 37), (37, 42)]\n",
    "\n",
    "# Read the file\n",
    "sc = pd.read_fwf('../datasets/street_dict.txt', colspecs=colspecs, header=None, names=[\"address_name\", \"borough\", \"street_code\"], dtype='string')"
   ]
  },
  {
   "cell_type": "markdown",
   "metadata": {},
   "source": [
    "Adding rules to make street names a common format so they match"
   ]
  },
  {
   "cell_type": "code",
   "execution_count": 220,
   "metadata": {},
   "outputs": [],
   "source": [
    "biz['Address Street Name'] = biz['Address Street Name'].str.lower()\n",
    "sc['address_name'] = sc['address_name'].str.lower()\n",
    "\n",
    "# Remove extra whitespaces between words in 'Address Street Name' and 'address_name'\n",
    "biz['Address Street Name'] = biz['Address Street Name'].str.replace('\\s+', ' ', regex=True)\n",
    "sc['address_name'] = sc['address_name'].str.replace('\\s+', ' ', regex=True)\n",
    "\n",
    "# Remove suffixes like 'th', 'st', 'nd', 'rd' from 'Address Street Name'\n",
    "biz['Address Street Name'] = biz['Address Street Name'].str.replace('(\\d+)(st|nd|rd|th)', r'\\1', regex=True)\n",
    "biz['Address Street Name'] = biz['Address Street Name'].str.replace(' ave. ', ' avenue ')\n",
    "biz['Address Street Name'] = biz['Address Street Name'].str.replace(' ave ', ' avenue ')\n",
    "biz['Address Street Name'] = biz['Address Street Name'].str.replace(' ave$', ' avenue', regex=True)\n",
    "biz['Address Street Name'] = biz['Address Street Name'].str.replace(' st ', ' street ')\n",
    "biz['Address Street Name'] = biz['Address Street Name'].str.replace(' st$', ' street', regex=True)\n",
    "biz['Address Street Name'] = biz['Address Street Name'].str.replace('st.', 'st')\n",
    "biz['Address Street Name'] = biz['Address Street Name'].str.replace('^w ', 'west ', regex=True)\n",
    "biz['Address Street Name'] = biz['Address Street Name'].str.replace(' w$', ' west', regex=True)\n",
    "biz['Address Street Name'] = biz['Address Street Name'].str.replace('^e ', 'east ', regex=True)\n",
    "biz['Address Street Name'] = biz['Address Street Name'].str.replace('blvd', 'boulevard', regex=True)\n",
    "biz['Address Street Name'] = biz['Address Street Name'].str.replace(' rd$', ' road', regex=True)\n",
    "biz['Address Street Name'] = biz['Address Street Name'].str.replace(' rd ', ' road ', regex=True)\n",
    "biz['Address Street Name'] = biz['Address Street Name'].str.replace('saint', 'st', regex=True)\n",
    "biz['Address Street Name'] = biz['Address Street Name'].str.replace(' pl$', ' place', regex=True)\n",
    "biz['Address Street Name'] = biz['Address Street Name'].str.replace('pkwy', 'parkway', regex=True)\n",
    "biz['Address Street Name'] = biz['Address Street Name'].str.replace(' dr$', ' drive', regex=True)\n",
    "biz['Address Street Name'] = biz['Address Street Name'].str.replace('^s ', 'south ', regex=True)\n",
    "biz['Address Street Name'] = biz['Address Street Name'].str.replace(' cir$', ' circle', regex=True)\n",
    "biz['Address Street Name'] = biz['Address Street Name'].str.replace(' ter$', ' terrace', regex=True)\n",
    "biz['Address Street Name'] = biz['Address Street Name'].str.replace(' expy$', ' expressway', regex=True)\n",
    "biz['Address Street Name'] = biz['Address Street Name'].str.replace(' hwy$', ' highway', regex=True)"
   ]
  },
  {
   "cell_type": "code",
   "execution_count": 221,
   "metadata": {},
   "outputs": [],
   "source": [
    "# Merge 'biz' and 'sc' on 'address_name'/'Address Street Name' and 'borough'/'Borough Code'\n",
    "merged = sc.merge(biz, left_on=['address_name', 'borough'], right_on=['Address Street Name', 'Borough Code'])"
   ]
  },
  {
   "cell_type": "markdown",
   "metadata": {},
   "source": [
    "We do not care for Inactive businesses"
   ]
  },
  {
   "cell_type": "code",
   "execution_count": 222,
   "metadata": {},
   "outputs": [],
   "source": [
    "merged = merged[merged['License Status'] == 'Active']"
   ]
  },
  {
   "cell_type": "code",
   "execution_count": 223,
   "metadata": {},
   "outputs": [
    {
     "data": {
      "text/plain": [
       "(28775, 30)"
      ]
     },
     "execution_count": 223,
     "metadata": {},
     "output_type": "execute_result"
    }
   ],
   "source": [
    "merged.shape"
   ]
  },
  {
   "cell_type": "code",
   "execution_count": 224,
   "metadata": {},
   "outputs": [
    {
     "data": {
      "text/plain": [
       "Index(['address_name', 'borough', 'street_code', 'DCA License Number',\n",
       "       'License Type', 'License Expiration Date', 'License Status',\n",
       "       'License Creation Date', 'Industry', 'Business Name', 'Business Name 2',\n",
       "       'Address Building', 'Address Street Name',\n",
       "       'Secondary Address Street Name', 'Address City', 'Address State',\n",
       "       'Address ZIP', 'Contact Phone Number', 'Address Borough',\n",
       "       'Borough Code', 'Community Board', 'Council District', 'BIN', 'BBL',\n",
       "       'NTA', 'Census Tract', 'Detail', 'Longitude', 'Latitude', 'Location'],\n",
       "      dtype='object')"
      ]
     },
     "execution_count": 224,
     "metadata": {},
     "output_type": "execute_result"
    }
   ],
   "source": [
    "merged.columns"
   ]
  },
  {
   "cell_type": "code",
   "execution_count": null,
   "metadata": {},
   "outputs": [],
   "source": [
    "merged = merged[[\"Industry\", \"Business Name\", \"Business Name 2\", \"DCA License Number\", \"street_code\",\"address_name\",\"borough\",\"License Type\", \"Longitude\", \"Latitude\", \"Location\"]]"
   ]
  },
  {
   "cell_type": "code",
   "execution_count": null,
   "metadata": {},
   "outputs": [],
   "source": [
    "merged.to_parquet(\"../datasets/biz/biz_with_sc.parquet\", index=False)"
   ]
  },
  {
   "cell_type": "markdown",
   "metadata": {},
   "source": [
    "Keep only how many businesses are on each street and save that"
   ]
  },
  {
   "cell_type": "code",
   "execution_count": 225,
   "metadata": {},
   "outputs": [
    {
     "data": {
      "text/html": [
       "<div>\n",
       "<style scoped>\n",
       "    .dataframe tbody tr th:only-of-type {\n",
       "        vertical-align: middle;\n",
       "    }\n",
       "\n",
       "    .dataframe tbody tr th {\n",
       "        vertical-align: top;\n",
       "    }\n",
       "\n",
       "    .dataframe thead th {\n",
       "        text-align: right;\n",
       "    }\n",
       "</style>\n",
       "<table border=\"1\" class=\"dataframe\">\n",
       "  <thead>\n",
       "    <tr style=\"text-align: right;\">\n",
       "      <th></th>\n",
       "      <th>borough</th>\n",
       "      <th>address_name</th>\n",
       "      <th>num_businesses</th>\n",
       "      <th>street_code</th>\n",
       "    </tr>\n",
       "  </thead>\n",
       "  <tbody>\n",
       "    <tr>\n",
       "      <th>2</th>\n",
       "      <td>1</td>\n",
       "      <td>1 avenue</td>\n",
       "      <td>157</td>\n",
       "      <td>10010</td>\n",
       "    </tr>\n",
       "    <tr>\n",
       "      <th>7</th>\n",
       "      <td>1</td>\n",
       "      <td>2 avenue</td>\n",
       "      <td>216</td>\n",
       "      <td>10110</td>\n",
       "    </tr>\n",
       "    <tr>\n",
       "      <th>10</th>\n",
       "      <td>1</td>\n",
       "      <td>3 avenue</td>\n",
       "      <td>175</td>\n",
       "      <td>10210</td>\n",
       "    </tr>\n",
       "    <tr>\n",
       "      <th>15</th>\n",
       "      <td>1</td>\n",
       "      <td>4 avenue</td>\n",
       "      <td>6</td>\n",
       "      <td>10350</td>\n",
       "    </tr>\n",
       "    <tr>\n",
       "      <th>17</th>\n",
       "      <td>1</td>\n",
       "      <td>5 avenue</td>\n",
       "      <td>171</td>\n",
       "      <td>10410</td>\n",
       "    </tr>\n",
       "    <tr>\n",
       "      <th>...</th>\n",
       "      <td>...</td>\n",
       "      <td>...</td>\n",
       "      <td>...</td>\n",
       "      <td>...</td>\n",
       "    </tr>\n",
       "    <tr>\n",
       "      <th>21806</th>\n",
       "      <td>5</td>\n",
       "      <td>xenia street</td>\n",
       "      <td>1</td>\n",
       "      <td>56480</td>\n",
       "    </tr>\n",
       "    <tr>\n",
       "      <th>21811</th>\n",
       "      <td>5</td>\n",
       "      <td>yeomalt avenue</td>\n",
       "      <td>1</td>\n",
       "      <td>56485</td>\n",
       "    </tr>\n",
       "    <tr>\n",
       "      <th>21814</th>\n",
       "      <td>5</td>\n",
       "      <td>yetman avenue</td>\n",
       "      <td>2</td>\n",
       "      <td>56500</td>\n",
       "    </tr>\n",
       "    <tr>\n",
       "      <th>21816</th>\n",
       "      <td>5</td>\n",
       "      <td>york avenue</td>\n",
       "      <td>1</td>\n",
       "      <td>56600</td>\n",
       "    </tr>\n",
       "    <tr>\n",
       "      <th>21817</th>\n",
       "      <td>5</td>\n",
       "      <td>york terrace</td>\n",
       "      <td>1</td>\n",
       "      <td>56615</td>\n",
       "    </tr>\n",
       "  </tbody>\n",
       "</table>\n",
       "<p>3548 rows × 4 columns</p>\n",
       "</div>"
      ],
      "text/plain": [
       "      borough    address_name  num_businesses street_code\n",
       "2           1        1 avenue             157       10010\n",
       "7           1        2 avenue             216       10110\n",
       "10          1        3 avenue             175       10210\n",
       "15          1        4 avenue               6       10350\n",
       "17          1        5 avenue             171       10410\n",
       "...       ...             ...             ...         ...\n",
       "21806       5    xenia street               1       56480\n",
       "21811       5  yeomalt avenue               1       56485\n",
       "21814       5   yetman avenue               2       56500\n",
       "21816       5     york avenue               1       56600\n",
       "21817       5    york terrace               1       56615\n",
       "\n",
       "[3548 rows x 4 columns]"
      ]
     },
     "execution_count": 225,
     "metadata": {},
     "output_type": "execute_result"
    }
   ],
   "source": [
    "counts = merged.groupby(['street_code', 'borough', 'address_name']).size().reset_index(name='num_businesses')\n",
    "merged_counts = counts.merge(sc, on=['address_name', 'borough'], how='right')\n",
    "merged_counts.fillna({'num_businesses': 0}, inplace = True)\n",
    "merged_counts['num_businesses'] = merged_counts['num_businesses'].astype(int)\n",
    "merged_counts.drop(columns=['street_code_x'], inplace=True)\n",
    "merged_counts.rename(columns={'street_code_y': 'street_code'}, inplace=True)\n",
    "\n",
    "merged_counts[merged_counts['num_businesses'] > 0]"
   ]
  },
  {
   "cell_type": "markdown",
   "metadata": {},
   "source": [
    "Make borough comon format which is the format for the parking violations dataset"
   ]
  },
  {
   "cell_type": "code",
   "execution_count": 226,
   "metadata": {},
   "outputs": [],
   "source": [
    "# Mappin based on documentation from here: https://data.cityofnewyork.us/City-Government/Street-Name-Dictionary/w4v2-rv6b/about_data\n",
    "merged.loc[merged.borough == \"1\", \"borough\"] = 'NY'\n",
    "merged.loc[merged.borough == \"2\", \"borough\"] = 'BX'\n",
    "merged.loc[merged.borough == \"3\", \"borough\"] = 'K'\n",
    "merged.loc[merged.borough == \"4\", \"borough\"] = 'Q'\n",
    "merged.loc[merged.borough == \"5\", \"borough\"] = 'R'\n",
    "\n",
    "\n",
    "# Mappin based on documentation from here: https://data.cityofnewyork.us/City-Government/Street-Name-Dictionary/w4v2-rv6b/about_data\n",
    "merged_counts.loc[merged_counts.borough == \"1\", \"borough\"] = 'NY'\n",
    "merged_counts.loc[merged_counts.borough == \"2\", \"borough\"] = 'BX'\n",
    "merged_counts.loc[merged_counts.borough == \"3\", \"borough\"] = 'K'\n",
    "merged_counts.loc[merged_counts.borough == \"4\", \"borough\"] = 'Q'\n",
    "merged_counts.loc[merged_counts.borough == \"5\", \"borough\"] = 'R'"
   ]
  },
  {
   "cell_type": "code",
   "execution_count": 227,
   "metadata": {},
   "outputs": [],
   "source": [
    "merged_counts.to_parquet(\"../datasets/biz/biz_per_street.parquet\", compression='snappy')\n",
    "merged[['Industry', 'Business Name', 'Business Name 2', 'DCA License Number', 'street_code', 'address_name', 'borough', 'License Type']].to_parquet(\"../datasets/biz/biz_with_sc.parquet\", compression='snappy')"
   ]
  },
  {
   "cell_type": "markdown",
   "metadata": {},
   "source": [
    "The below code is used to see which streets are missing so I can add rules to fix them"
   ]
  },
  {
   "cell_type": "code",
   "execution_count": 228,
   "metadata": {},
   "outputs": [],
   "source": [
    "# Right join 'biz' and 'sc' on 'address_name'/'Address Street Name' and 'borough'/'Borough Code'\n",
    "merged = sc.merge(biz, left_on=['address_name', 'borough'], right_on=['Address Street Name', 'Borough Code'], how='right')\n",
    "\n",
    "# Filter rows where 'address_name' is NA\n",
    "filtered = merged[merged['address_name'].isna()]"
   ]
  },
  {
   "cell_type": "code",
   "execution_count": 229,
   "metadata": {},
   "outputs": [
    {
     "data": {
      "text/html": [
       "<div>\n",
       "<style scoped>\n",
       "    .dataframe tbody tr th:only-of-type {\n",
       "        vertical-align: middle;\n",
       "    }\n",
       "\n",
       "    .dataframe tbody tr th {\n",
       "        vertical-align: top;\n",
       "    }\n",
       "\n",
       "    .dataframe thead th {\n",
       "        text-align: right;\n",
       "    }\n",
       "</style>\n",
       "<table border=\"1\" class=\"dataframe\">\n",
       "  <thead>\n",
       "    <tr style=\"text-align: right;\">\n",
       "      <th></th>\n",
       "      <th>Address Street Name</th>\n",
       "      <th>Borough Code</th>\n",
       "    </tr>\n",
       "  </thead>\n",
       "  <tbody>\n",
       "    <tr>\n",
       "      <th>77</th>\n",
       "      <td>6 avenue</td>\n",
       "      <td>1</td>\n",
       "    </tr>\n",
       "    <tr>\n",
       "      <th>197</th>\n",
       "      <td>dr martin l king jr boulevard</td>\n",
       "      <td>2</td>\n",
       "    </tr>\n",
       "    <tr>\n",
       "      <th>198</th>\n",
       "      <td>frederick douglass boulevard</td>\n",
       "      <td>1</td>\n",
       "    </tr>\n",
       "    <tr>\n",
       "      <th>207</th>\n",
       "      <td>vanderwater avenue</td>\n",
       "      <td>4</td>\n",
       "    </tr>\n",
       "    <tr>\n",
       "      <th>245</th>\n",
       "      <td>whitestone expressway</td>\n",
       "      <td>4</td>\n",
       "    </tr>\n",
       "    <tr>\n",
       "      <th>261</th>\n",
       "      <td>6 avenue</td>\n",
       "      <td>1</td>\n",
       "    </tr>\n",
       "    <tr>\n",
       "      <th>319</th>\n",
       "      <td>mcclean avenue</td>\n",
       "      <td>5</td>\n",
       "    </tr>\n",
       "    <tr>\n",
       "      <th>351</th>\n",
       "      <td>main avenue</td>\n",
       "      <td>2</td>\n",
       "    </tr>\n",
       "    <tr>\n",
       "      <th>358</th>\n",
       "      <td>union tpke</td>\n",
       "      <td>4</td>\n",
       "    </tr>\n",
       "    <tr>\n",
       "      <th>365</th>\n",
       "      <td>horace harding expressway</td>\n",
       "      <td>4</td>\n",
       "    </tr>\n",
       "  </tbody>\n",
       "</table>\n",
       "</div>"
      ],
      "text/plain": [
       "               Address Street Name Borough Code\n",
       "77                        6 avenue            1\n",
       "197  dr martin l king jr boulevard            2\n",
       "198   frederick douglass boulevard            1\n",
       "207             vanderwater avenue            4\n",
       "245          whitestone expressway            4\n",
       "261                       6 avenue            1\n",
       "319                 mcclean avenue            5\n",
       "351                    main avenue            2\n",
       "358                     union tpke            4\n",
       "365      horace harding expressway            4"
      ]
     },
     "execution_count": 229,
     "metadata": {},
     "output_type": "execute_result"
    }
   ],
   "source": [
    "filtered[['Address Street Name', 'Borough Code']].head(10)"
   ]
  }
 ],
 "metadata": {
  "kernelspec": {
   "display_name": ".venv",
   "language": "python",
   "name": "python3"
  },
  "language_info": {
   "codemirror_mode": {
    "name": "ipython",
    "version": 3
   },
   "file_extension": ".py",
   "mimetype": "text/x-python",
   "name": "python",
   "nbconvert_exporter": "python",
   "pygments_lexer": "ipython3",
   "version": "3.11.8"
  }
 },
 "nbformat": 4,
 "nbformat_minor": 2
}
