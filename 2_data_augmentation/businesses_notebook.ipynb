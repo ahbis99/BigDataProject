{
 "cells": [
  {
   "cell_type": "code",
   "execution_count": 395,
   "metadata": {},
   "outputs": [],
   "source": [
    "import pandas as pd"
   ]
  },
  {
   "cell_type": "code",
   "execution_count": 396,
   "metadata": {},
   "outputs": [
    {
     "data": {
      "text/plain": [
       "(281413, 27)"
      ]
     },
     "execution_count": 396,
     "metadata": {},
     "output_type": "execute_result"
    }
   ],
   "source": [
    "biz = pd.read_csv(\"../biz/biz.csv\", dtype='string')\n",
    "biz.shape"
   ]
  },
  {
   "cell_type": "code",
   "execution_count": 397,
   "metadata": {},
   "outputs": [
    {
     "data": {
      "text/plain": [
       "(170627, 27)"
      ]
     },
     "execution_count": 397,
     "metadata": {},
     "output_type": "execute_result"
    }
   ],
   "source": [
    "biz.dropna(subset=['Address Street Name'], inplace=True)\n",
    "biz.dropna(subset=['Borough Code'], inplace=True)\n",
    "biz.shape"
   ]
  },
  {
   "cell_type": "code",
   "execution_count": 398,
   "metadata": {},
   "outputs": [],
   "source": [
    "# Define column widths\n",
    "colspecs = [(2, 34), (35, 36), (36, 37), (37, 42)]\n",
    "\n",
    "# Read the file\n",
    "sc = pd.read_fwf('../street_dict.txt', colspecs=colspecs, header=None, names=[\"address_name\", \"f\", \"borough\", \"street_code\"], dtype='string')"
   ]
  },
  {
   "cell_type": "code",
   "execution_count": 399,
   "metadata": {},
   "outputs": [],
   "source": [
    "biz['Address Street Name'] = biz['Address Street Name'].str.lower()\n",
    "sc['address_name'] = sc['address_name'].str.lower()\n",
    "\n",
    "# Remove extra whitespaces between words in 'Address Street Name' and 'address_name'\n",
    "biz['Address Street Name'] = biz['Address Street Name'].str.replace('\\s+', ' ', regex=True)\n",
    "sc['address_name'] = sc['address_name'].str.replace('\\s+', ' ', regex=True)\n",
    "\n",
    "# Remove suffixes like 'th', 'st', 'nd', 'rd' from 'Address Street Name'\n",
    "biz['Address Street Name'] = biz['Address Street Name'].str.replace('(\\d+)(st|nd|rd|th)', r'\\1', regex=True)\n",
    "biz['Address Street Name'] = biz['Address Street Name'].str.replace(' ave. ', ' avenue ')\n",
    "biz['Address Street Name'] = biz['Address Street Name'].str.replace(' ave ', ' avenue ')\n",
    "biz['Address Street Name'] = biz['Address Street Name'].str.replace(' ave$', ' avenue', regex=True)\n",
    "biz['Address Street Name'] = biz['Address Street Name'].str.replace(' st ', ' street ')\n",
    "biz['Address Street Name'] = biz['Address Street Name'].str.replace(' st$', ' street', regex=True)\n",
    "biz['Address Street Name'] = biz['Address Street Name'].str.replace('st.', 'st')\n",
    "biz['Address Street Name'] = biz['Address Street Name'].str.replace('^w ', 'west ', regex=True)\n",
    "biz['Address Street Name'] = biz['Address Street Name'].str.replace(' w$', ' west', regex=True)\n",
    "biz['Address Street Name'] = biz['Address Street Name'].str.replace('^e ', 'east ', regex=True)\n",
    "biz['Address Street Name'] = biz['Address Street Name'].str.replace('blvd', 'boulevard', regex=True)\n",
    "biz['Address Street Name'] = biz['Address Street Name'].str.replace(' rd$', ' road', regex=True)\n",
    "biz['Address Street Name'] = biz['Address Street Name'].str.replace(' rd ', ' road ', regex=True)\n",
    "biz['Address Street Name'] = biz['Address Street Name'].str.replace('saint', 'st', regex=True)\n",
    "biz['Address Street Name'] = biz['Address Street Name'].str.replace(' pl$', ' place', regex=True)\n",
    "biz['Address Street Name'] = biz['Address Street Name'].str.replace('pkwy', 'parkway', regex=True)\n",
    "biz['Address Street Name'] = biz['Address Street Name'].str.replace(' dr$', ' drive', regex=True)\n",
    "biz['Address Street Name'] = biz['Address Street Name'].str.replace('^s ', 'south ', regex=True)\n",
    "biz['Address Street Name'] = biz['Address Street Name'].str.replace(' cir$', ' circle', regex=True)\n",
    "biz['Address Street Name'] = biz['Address Street Name'].str.replace(' ter$', ' terrace', regex=True)\n",
    "biz['Address Street Name'] = biz['Address Street Name'].str.replace(' expy$', ' expressway', regex=True)\n",
    "biz['Address Street Name'] = biz['Address Street Name'].str.replace(' hwy$', ' highway', regex=True)"
   ]
  },
  {
   "cell_type": "code",
   "execution_count": 400,
   "metadata": {},
   "outputs": [
    {
     "data": {
      "text/plain": [
       "(164108, 31)"
      ]
     },
     "execution_count": 400,
     "metadata": {},
     "output_type": "execute_result"
    }
   ],
   "source": [
    "# Merge 'biz' and 'sc' on 'address_name'/'Address Street Name' and 'borough'/'Borough Code'\n",
    "merged = sc.merge(biz, left_on=['address_name', 'borough'], right_on=['Address Street Name', 'Borough Code'])\n",
    "merged.shape"
   ]
  },
  {
   "cell_type": "code",
   "execution_count": 401,
   "metadata": {},
   "outputs": [],
   "source": [
    "# Mappin based on documentation from here: https://data.cityofnewyork.us/City-Government/Street-Name-Dictionary/w4v2-rv6b/about_data\n",
    "merged.loc[merged.borough == \"1\", \"borough\"] = 'NY'\n",
    "merged.loc[merged.borough == \"2\", \"borough\"] = 'BX'\n",
    "merged.loc[merged.borough == \"3\", \"borough\"] = 'K'\n",
    "merged.loc[merged.borough == \"4\", \"borough\"] = 'Q'\n",
    "merged.loc[merged.borough == \"5\", \"borough\"] = 'R'"
   ]
  },
  {
   "cell_type": "code",
   "execution_count": 402,
   "metadata": {},
   "outputs": [],
   "source": [
    "merged.to_csv('../biz/biz_with_sc.csv', index=False, header=True)"
   ]
  },
  {
   "cell_type": "code",
   "execution_count": 403,
   "metadata": {},
   "outputs": [],
   "source": [
    "# Right join 'biz' and 'sc' on 'address_name'/'Address Street Name' and 'borough'/'Borough Code'\n",
    "merged = sc.merge(biz, left_on=['address_name', 'borough'], right_on=['Address Street Name', 'Borough Code'], how='right')\n",
    "\n",
    "# Filter rows where 'address_name' is NA\n",
    "filtered = merged[merged['address_name'].isna()]"
   ]
  },
  {
   "cell_type": "code",
   "execution_count": 404,
   "metadata": {},
   "outputs": [
    {
     "data": {
      "text/html": [
       "<div>\n",
       "<style scoped>\n",
       "    .dataframe tbody tr th:only-of-type {\n",
       "        vertical-align: middle;\n",
       "    }\n",
       "\n",
       "    .dataframe tbody tr th {\n",
       "        vertical-align: top;\n",
       "    }\n",
       "\n",
       "    .dataframe thead th {\n",
       "        text-align: right;\n",
       "    }\n",
       "</style>\n",
       "<table border=\"1\" class=\"dataframe\">\n",
       "  <thead>\n",
       "    <tr style=\"text-align: right;\">\n",
       "      <th></th>\n",
       "      <th>Address Street Name</th>\n",
       "      <th>Borough Code</th>\n",
       "    </tr>\n",
       "  </thead>\n",
       "  <tbody>\n",
       "    <tr>\n",
       "      <th>77</th>\n",
       "      <td>6 avenue</td>\n",
       "      <td>1</td>\n",
       "    </tr>\n",
       "    <tr>\n",
       "      <th>197</th>\n",
       "      <td>dr martin l king jr boulevard</td>\n",
       "      <td>2</td>\n",
       "    </tr>\n",
       "    <tr>\n",
       "      <th>198</th>\n",
       "      <td>frederick douglass boulevard</td>\n",
       "      <td>1</td>\n",
       "    </tr>\n",
       "    <tr>\n",
       "      <th>207</th>\n",
       "      <td>vanderwater avenue</td>\n",
       "      <td>4</td>\n",
       "    </tr>\n",
       "    <tr>\n",
       "      <th>245</th>\n",
       "      <td>whitestone expressway</td>\n",
       "      <td>4</td>\n",
       "    </tr>\n",
       "    <tr>\n",
       "      <th>261</th>\n",
       "      <td>6 avenue</td>\n",
       "      <td>1</td>\n",
       "    </tr>\n",
       "    <tr>\n",
       "      <th>319</th>\n",
       "      <td>mcclean avenue</td>\n",
       "      <td>5</td>\n",
       "    </tr>\n",
       "    <tr>\n",
       "      <th>351</th>\n",
       "      <td>main avenue</td>\n",
       "      <td>2</td>\n",
       "    </tr>\n",
       "    <tr>\n",
       "      <th>358</th>\n",
       "      <td>union tpke</td>\n",
       "      <td>4</td>\n",
       "    </tr>\n",
       "    <tr>\n",
       "      <th>365</th>\n",
       "      <td>horace harding expressway</td>\n",
       "      <td>4</td>\n",
       "    </tr>\n",
       "  </tbody>\n",
       "</table>\n",
       "</div>"
      ],
      "text/plain": [
       "               Address Street Name Borough Code\n",
       "77                        6 avenue            1\n",
       "197  dr martin l king jr boulevard            2\n",
       "198   frederick douglass boulevard            1\n",
       "207             vanderwater avenue            4\n",
       "245          whitestone expressway            4\n",
       "261                       6 avenue            1\n",
       "319                 mcclean avenue            5\n",
       "351                    main avenue            2\n",
       "358                     union tpke            4\n",
       "365      horace harding expressway            4"
      ]
     },
     "execution_count": 404,
     "metadata": {},
     "output_type": "execute_result"
    }
   ],
   "source": [
    "filtered[['Address Street Name', 'Borough Code']].head(10)"
   ]
  }
 ],
 "metadata": {
  "kernelspec": {
   "display_name": ".venv",
   "language": "python",
   "name": "python3"
  },
  "language_info": {
   "codemirror_mode": {
    "name": "ipython",
    "version": 3
   },
   "file_extension": ".py",
   "mimetype": "text/x-python",
   "name": "python",
   "nbconvert_exporter": "python",
   "pygments_lexer": "ipython3",
   "version": "3.11.8"
  }
 },
 "nbformat": 4,
 "nbformat_minor": 2
}
