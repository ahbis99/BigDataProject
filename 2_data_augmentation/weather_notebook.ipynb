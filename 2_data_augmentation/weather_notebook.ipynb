{
 "cells": [
  {
   "cell_type": "markdown",
   "metadata": {},
   "source": [
    "# Weather augmentation\n",
    "Based on Boroughs:\n",
    "| Borough       | Latitude   | Longitude   |\n",
    "|---------------|------------|-------------|\n",
    "| The Bronx     | 40.8448° N | 73.8648° W  |\n",
    "| Brooklyn      | 40.6782° N | 73.9442° W  |\n",
    "| Manhattan     | 40.7831° N | 73.9712° W  |\n",
    "| Queens        | 40.7282° N | 73.7949° W  |\n",
    "| Staten Island | 40.5795° N | 74.1502° W  |\n"
   ]
  },
  {
   "cell_type": "code",
   "execution_count": 1,
   "metadata": {},
   "outputs": [],
   "source": [
    "from datetime import datetime\n",
    "from meteostat import Hourly"
   ]
  },
  {
   "cell_type": "code",
   "execution_count": 2,
   "metadata": {},
   "outputs": [
    {
     "ename": "NameError",
     "evalue": "name 'Point' is not defined",
     "output_type": "error",
     "traceback": [
      "\u001b[0;31m---------------------------------------------------------------------------\u001b[0m",
      "\u001b[0;31mNameError\u001b[0m                                 Traceback (most recent call last)",
      "Cell \u001b[0;32mIn[2], line 2\u001b[0m\n\u001b[1;32m      1\u001b[0m boroughs_locations \u001b[38;5;241m=\u001b[39m {\n\u001b[0;32m----> 2\u001b[0m     \u001b[38;5;124m\"\u001b[39m\u001b[38;5;124mbronx\u001b[39m\u001b[38;5;124m\"\u001b[39m: \u001b[43mPoint\u001b[49m(\u001b[38;5;241m40.8448\u001b[39m, \u001b[38;5;241m-\u001b[39m\u001b[38;5;241m73.8648\u001b[39m),\n\u001b[1;32m      3\u001b[0m     \u001b[38;5;124m\"\u001b[39m\u001b[38;5;124mbrooklyn\u001b[39m\u001b[38;5;124m\"\u001b[39m: Point(\u001b[38;5;241m40.6782\u001b[39m, \u001b[38;5;241m-\u001b[39m\u001b[38;5;241m73.9442\u001b[39m),\n\u001b[1;32m      4\u001b[0m     \u001b[38;5;124m\"\u001b[39m\u001b[38;5;124mmanhattan\u001b[39m\u001b[38;5;124m\"\u001b[39m: Point(\u001b[38;5;241m40.7831\u001b[39m, \u001b[38;5;241m-\u001b[39m\u001b[38;5;241m73.9712\u001b[39m),\n\u001b[1;32m      5\u001b[0m     \u001b[38;5;124m\"\u001b[39m\u001b[38;5;124mqueens\u001b[39m\u001b[38;5;124m\"\u001b[39m: Point(\u001b[38;5;241m40.7282\u001b[39m, \u001b[38;5;241m-\u001b[39m\u001b[38;5;241m73.7949\u001b[39m),\n\u001b[1;32m      6\u001b[0m     \u001b[38;5;124m\"\u001b[39m\u001b[38;5;124mstaten_island\u001b[39m\u001b[38;5;124m\"\u001b[39m: Point(\u001b[38;5;241m40.5795\u001b[39m, \u001b[38;5;241m-\u001b[39m\u001b[38;5;241m74.1502\u001b[39m)\n\u001b[1;32m      7\u001b[0m }\n",
      "\u001b[0;31mNameError\u001b[0m: name 'Point' is not defined"
     ]
    }
   ],
   "source": [
    "boroughs_locations = {\n",
    "    \"bronx\": Point(40.8448, -73.8648),\n",
    "    \"brooklyn\": Point(40.6782, -73.9442),\n",
    "    \"manhattan\": Point(40.7831, -73.9712),\n",
    "    \"queens\": Point(40.7282, -73.7949),\n",
    "    \"staten_island\": Point(40.5795, -74.1502)\n",
    "}"
   ]
  },
  {
   "cell_type": "code",
   "execution_count": null,
   "metadata": {},
   "outputs": [],
   "source": []
  }
 ],
 "metadata": {
  "kernelspec": {
   "display_name": "bd39",
   "language": "python",
   "name": "python3"
  },
  "language_info": {
   "codemirror_mode": {
    "name": "ipython",
    "version": 3
   },
   "file_extension": ".py",
   "mimetype": "text/x-python",
   "name": "python",
   "nbconvert_exporter": "python",
   "pygments_lexer": "ipython3",
   "version": "3.9.18"
  }
 },
 "nbformat": 4,
 "nbformat_minor": 2
}
