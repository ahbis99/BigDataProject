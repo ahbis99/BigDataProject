{
 "cells": [
  {
   "cell_type": "code",
   "execution_count": 1,
   "metadata": {},
   "outputs": [],
   "source": [
    "import pandas as pd\n",
    "import glob\n",
    "from fuzzywuzzy import fuzz"
   ]
  },
  {
   "cell_type": "code",
   "execution_count": 2,
   "metadata": {},
   "outputs": [],
   "source": [
    "# Define column widths\n",
    "colspecs = [(2, 34), (35, 36), (36, 37), (37, 42)]\n",
    "\n",
    "# Read the file\n",
    "df = pd.read_fwf('../street_dict.txt', colspecs=colspecs, header=None, names=[\"address_name\", \"f\", \"borough\", \"sc\"], dtype='string')"
   ]
  },
  {
   "cell_type": "code",
   "execution_count": 3,
   "metadata": {},
   "outputs": [],
   "source": [
    "# Mappin based on documentation from here: https://data.cityofnewyork.us/City-Government/Street-Name-Dictionary/w4v2-rv6b/about_data\n",
    "df.loc[df.borough == \"1\", \"borough\"] = 'NY'\n",
    "df.loc[df.borough == \"2\", \"borough\"] = 'BX'\n",
    "df.loc[df.borough == \"3\", \"borough\"] = 'K'\n",
    "df.loc[df.borough == \"4\", \"borough\"] = 'Q'\n",
    "df.loc[df.borough == \"5\", \"borough\"] = 'R'"
   ]
  },
  {
   "cell_type": "code",
   "execution_count": 4,
   "metadata": {},
   "outputs": [
    {
     "data": {
      "text/html": [
       "<div>\n",
       "<style scoped>\n",
       "    .dataframe tbody tr th:only-of-type {\n",
       "        vertical-align: middle;\n",
       "    }\n",
       "\n",
       "    .dataframe tbody tr th {\n",
       "        vertical-align: top;\n",
       "    }\n",
       "\n",
       "    .dataframe thead th {\n",
       "        text-align: right;\n",
       "    }\n",
       "</style>\n",
       "<table border=\"1\" class=\"dataframe\">\n",
       "  <thead>\n",
       "    <tr style=\"text-align: right;\">\n",
       "      <th></th>\n",
       "      <th>address_name</th>\n",
       "      <th>f</th>\n",
       "      <th>borough</th>\n",
       "      <th>sc</th>\n",
       "    </tr>\n",
       "  </thead>\n",
       "  <tbody>\n",
       "    <tr>\n",
       "      <th>1963</th>\n",
       "      <td>MADISON AVENUE</td>\n",
       "      <td>F</td>\n",
       "      <td>NY</td>\n",
       "      <td>25390</td>\n",
       "    </tr>\n",
       "    <tr>\n",
       "      <th>12088</th>\n",
       "      <td>191 STREET</td>\n",
       "      <td>F</td>\n",
       "      <td>Q</td>\n",
       "      <td>25390</td>\n",
       "    </tr>\n",
       "    <tr>\n",
       "      <th>17716</th>\n",
       "      <td>CURTIS AVENUE</td>\n",
       "      <td>F</td>\n",
       "      <td>R</td>\n",
       "      <td>25390</td>\n",
       "    </tr>\n",
       "  </tbody>\n",
       "</table>\n",
       "</div>"
      ],
      "text/plain": [
       "         address_name  f borough     sc\n",
       "1963   MADISON AVENUE  F      NY  25390\n",
       "12088      191 STREET  F       Q  25390\n",
       "17716   CURTIS AVENUE  F       R  25390"
      ]
     },
     "execution_count": 4,
     "metadata": {},
     "output_type": "execute_result"
    }
   ],
   "source": [
    "df[df.sc == '25390'].head()"
   ]
  },
  {
   "cell_type": "code",
   "execution_count": 11,
   "metadata": {},
   "outputs": [],
   "source": [
    "header = '\"dbn\",\"school_name\",\"boro\",\"url\",\"overview_paragraph\",\"diversity_in_admissions\",\"diadetails\",\"school_10th_seats\",\"academicopportunities1\",\"academicopportunities2\",\"academicopportunities3\",\"academicopportunities4\",\"academicopportunities5\",\"academicopportunities6\",\"ell_programs\",\"language_classes\",\"advancedplacement_courses\",\"diplomaendorsements\",\"neighborhood\",\"shared_space\",\"campus_name\",\"building_code\",\"location\",\"phone_number\",\"fax_number\",\"school_email\",\"website\",\"recruitment_website\",\"sqr_website\",\"subway\",\"bus\",\"gradespan\",\"finalgrades\",\"total_students\",\"freshmanschedule\",\"start_time\",\"end_time\",\"addtl_info1\",\"extracurricular_activities\",\"psal_sports_boys\",\"psal_sports_girls\",\"psal_sports_coed\",\"school_sports\",\"graduation_rate\",\"pct_stu_safe\",\"attendance_rate\",\"pct_stu_enough_variety\",\"college_career_rate\",\"girls\",\"boys\",\"pbat\",\"international\",\"specialized\",\"transfer\",\"ptech\",\"earlycollege\",\"school_accessibility\",\"program1\",\"program2\",\"program3\",\"program4\",\"program5\",\"program6\",\"program7\",\"program8\",\"program9\",\"program10\",\"program11\",\"program12\",\"interest1\",\"interest2\",\"interest3\",\"interest4\",\"interest5\",\"interest6\",\"interest7\",\"interest8\",\"interest9\",\"interest10\",\"interest11\",\"interest12\",\"common_audition1\",\"common_audition2\",\"common_audition3\",\"common_audition4\",\"common_audition5\",\"common_audition6\",\"common_audition7\",\"common_audition8\",\"common_audition9\",\"common_audition10\",\"common_audition11\",\"common_audition12\",\"seats9ge1\",\"seats9ge2\",\"seats9ge3\",\"seats9ge4\",\"seats9ge5\",\"seats9ge6\",\"seats9ge7\",\"seats9ge8\",\"seats9ge9\",\"seats9ge10\",\"seats9ge11\",\"seats9ge12\",\"grade9geapplicants1\",\"grade9geapplicantsperseat1\",\"grade9geapplicants2\",\"grade9geapplicantsperseat2\",\"grade9geapplicants3\",\"grade9geapplicantsperseat3\",\"grade9geapplicants4\",\"grade9geapplicantsperseat4\",\"grade9geapplicants5\",\"grade9geapplicantsperseat5\",\"grade9geapplicants6\",\"grade9geapplicantsperseat6\",\"grade9geapplicants7\",\"grade9geapplicantsperseat7\",\"grade9geapplicants8\",\"grade9geapplicantsperseat8\",\"grade9geapplicants9\",\"grade9geapplicantsperseat9\",\"grade9geapplicants10\",\"grade9geapplicantsperseat10\",\"grade9geapplicants11\",\"grade9geapplicantsperseat11\",\"grade9geapplicants12\",\"grade9geapplicantsperseat12\",\"grade9gefilledflag1\",\"grade9gefilledflag2\",\"grade9gefilledflag3\",\"grade9gefilledflag4\",\"grade9gefilledflag5\",\"grade9gefilledflag6\",\"grade9gefilledflag7\",\"grade9gefilledflag8\",\"grade9gefilledflag9\",\"grade9gefilledflag10\",\"grade9gefilledflag11\",\"grade9gefilledflag12\",\"seats9swd1\",\"seats9swd2\",\"seats9swd3\",\"seats9swd4\",\"seats9swd5\",\"seats9swd6\",\"seats9swd7\",\"seats9swd8\",\"seats9swd9\",\"seats9swd10\",\"seats9swd11\",\"seats9swd12\",\"grade9swdapplicants1\",\"grade9swdapplicantsperseat1\",\"grade9swdapplicants2\",\"grade9swdapplicantsperseat2\",\"grade9swdapplicants3\",\"grade9swdapplicantsperseat3\",\"grade9swdapplicants4\",\"grade9swdapplicantsperseat4\",\"grade9swdapplicants5\",\"grade9swdapplicantsperseat5\",\"grade9swdapplicants6\",\"grade9swdapplicantsperseat6\",\"grade9swdapplicants7\",\"grade9swdapplicantsperseat7\",\"grade9swdapplicants8\",\"grade9swdapplicantsperseat8\",\"grade9swdapplicants9\",\"grade9swdapplicantsperseat9\",\"grade9swdapplicants10\",\"grade9swdapplicantsperseat10\",\"grade9swdapplicants11\",\"grade9swdapplicantsperseat11\",\"grade9swdapplicants12\",\"grade9swdapplicantsperseat12\",\"grade9swdfilledflag1\",\"grade9swdfilledflag2\",\"grade9swdfilledflag3\",\"grade9swdfilledflag4\",\"grade9swdfilledflag5\",\"grade9swdfilledflag6\",\"grade9swdfilledflag7\",\"grade9swdfilledflag8\",\"grade9swdfilledflag9\",\"grade9swdfilledflag10\",\"grade9swdfilledflag11\",\"grade9swdfilledflag12\",\"seats1specialized\",\"seats2specialized\",\"seats3specialized\",\"seats4specialized\",\"seats5specialized\",\"seats6specialized\",\"applicants1specialized\",\"applicants2specialized\",\"applicants3specialized\",\"applicants4specialized\",\"applicants5specialized\",\"applicants6specialized\",\"appperseat1specialized\",\"appperseat2specialized\",\"appperseat3specialized\",\"appperseat4specialized\",\"appperseat5specialized\",\"appperseat6specialized\",\"seats101\",\"seats102\",\"seats103\",\"seats104\",\"seats105\",\"seats106\",\"seats107\",\"seats108\",\"seats109\",\"seats1010\",\"seats1011\",\"seats1012\",\"offer_rate1_1\",\"offer_rate2_1\",\"offer_rate3_1\",\"offer_rate4_1\",\"offer_rate1_2\",\"offer_rate2_2\",\"offer_rate3_2\",\"offer_rate4_2\",\"offer_rate1_3\",\"offer_rate2_3\",\"offer_rate3_3\",\"offer_rate4_3\",\"offer_rate1_4\",\"offer_rate2_4\",\"offer_rate3_4\",\"offer_rate4_4\",\"offer_rate1_5\",\"offer_rate2_5\",\"offer_rate3_5\",\"offer_rate4_5\",\"offer_rate1_6\",\"offer_rate2_6\",\"offer_rate3_6\",\"offer_rate4_6\",\"offer_rate1_7\",\"offer_rate2_7\",\"offer_rate3_7\",\"offer_rate4_7\",\"offer_rate1_8\",\"offer_rate2_8\",\"offer_rate3_8\",\"offer_rate4_8\",\"offer_rate1_9\",\"offer_rate2_9\",\"offer_rate3_9\",\"offer_rate4_9\",\"offer_rate1_10\",\"offer_rate2_10\",\"offer_rate3_10\",\"offer_rate4_10\",\"offer_rate1_11\",\"offer_rate2_11\",\"offer_rate3_11\",\"offer_rate4_11\",\"offer_rate1_12\",\"offer_rate2_12\",\"offer_rate3_12\",\"offer_rate4_12\",\"code1\",\"method1\",\"code2\",\"method2\",\"code3\",\"method3\",\"code4\",\"method4\",\"code5\",\"method5\",\"code6\",\"method6\",\"code7\",\"method7\",\"code8\",\"method8\",\"code9\",\"method9\",\"code10\",\"method10\",\"code11\",\"method11\",\"code12\",\"method12\",\"primary_address_line_1\",\"city\",\"postcode\",\"state_code\",\"borough\",\"latitude\",\"longitude\",\"community_board\",\"council_district\",\"census_tract\",\"bin\",\"bbl\",\"nta\",\"datayear\"'\n",
    "\n",
    "with open('../hs/combined_hs.csv', 'w') as file:\n",
    "    file.write(header)"
   ]
  },
  {
   "cell_type": "code",
   "execution_count": 14,
   "metadata": {},
   "outputs": [
    {
     "name": "stdout",
     "output_type": "stream",
     "text": [
      "Year: ../hs/2017.csv \n",
      " New: 416 \n",
      " Old: 440\n",
      "------------------------\n"
     ]
    }
   ],
   "source": [
    "base_path = '../hs/'\n",
    "years = ['2016', '2017', '2018', '2019', '2020', '2021']\n",
    "files = [file for year in years for file in glob.glob(base_path + year + \".csv\")]\n",
    "\n",
    "def fuzzy_match(row, threshold=97):  # increase the threshold for a near-perfect match\n",
    "    return fuzz.token_sort_ratio(row['primary_address_line_1'], row['address_name']) > threshold\n",
    "\n",
    "for file in files:\n",
    "    hs = pd.read_csv(file) \n",
    "\n",
    "    hs = hs.drop(columns=hs.filter(regex='prgdesc\\d*').columns)\n",
    "    hs = hs.drop(columns=hs.filter(regex='requirement\\d*').columns)\n",
    "    hs = hs.drop(columns=hs.filter(regex='eligibility\\d*').columns)\n",
    "    hs = hs.drop(columns=hs.filter(regex='auditioninformation\\d*').columns)\n",
    "    hs = hs.drop(columns=hs.filter(regex='admissionspriority\\d*').columns)\n",
    "\n",
    "\n",
    "    hs.loc[hs.boro == \"M\", \"boro\"] = 'NY'\n",
    "    hs.loc[hs.boro == \"X\", \"boro\"] = 'BX'\n",
    "\n",
    "    hs.loc[hs.boro == \"Manhattan\", \"boro\"] = 'NY'\n",
    "    hs.loc[hs.boro == \"Bronx\", \"boro\"] = 'BX'\n",
    "    hs.loc[hs.boro == \"Queens\", \"boro\"] = 'Q'\n",
    "    hs.loc[hs.boro == \"Staten Island\", \"boro\"] = 'R'\n",
    "    hs.loc[hs.boro == \"Brooklyn\", \"boro\"] = 'K'\n",
    "\n",
    "    # Convert the columns to lowercase to make the matching easier\n",
    "    hs['primary_address_line_1'] = hs['primary_address_line_1'].str.lower()\n",
    "    df['address_name'] = df['address_name'].str.lower()\n",
    "\n",
    "    # Remove extra whitespaces between words in 'primary_address_line_1' and 'address_name'\n",
    "    hs['primary_address_line_1'] = hs['primary_address_line_1'].str.replace('\\s+', ' ', regex=True)\n",
    "    df['address_name'] = df['address_name'].str.replace('\\s+', ' ', regex=True)\n",
    "\n",
    "    # Remove suffixes like 'th', 'st', 'nd', 'rd' from 'primary_address_line_1'\n",
    "    hs['primary_address_line_1'] = hs['primary_address_line_1'].str.replace('(\\d+)(st|nd|rd|th)', r'\\1', regex=True)\n",
    "    hs['primary_address_line_1'] = hs['primary_address_line_1'].str.replace('st.', 'st')\n",
    "    hs['primary_address_line_1'] = hs['primary_address_line_1'].str.replace('ave.', 'avenue')\n",
    "    \n",
    "    # First, join on borough column\n",
    "    merged = df.merge(hs, left_on='borough', right_on='boro', suffixes=('', '_y'))\n",
    "\n",
    "    merged['primary_address_line_1'] = merged['primary_address_line_1'].str.replace('^\\S+\\s*', '', regex=True)\n",
    "\n",
    "    # Fuzzy match entry addreses. Not needed anymore. I used it to see what are the difference in the street so I can\n",
    "    # add the rules above\n",
    "    mask = merged.apply(fuzzy_match, axis=1)\n",
    "\n",
    "    temp = merged[mask]\n",
    "    diff = temp[temp.address_name != temp.primary_address_line_1]\n",
    "    print(f\"Year: {file} \\n New: {len(temp)} \\n Old: {len(hs)}\")\n",
    "    print(\"------------------------\")\n",
    "\n",
    "    missing_schools = hs[~hs['school_name'].isin(temp['school_name'])]\n",
    "    #print(missing_schools[['school_name', 'primary_address_line_1']])\n",
    "\n",
    "    temp.to_csv('../hs/combined_hs.csv', mode='a', header=False)"
   ]
  }
 ],
 "metadata": {
  "kernelspec": {
   "display_name": ".venv",
   "language": "python",
   "name": "python3"
  },
  "language_info": {
   "codemirror_mode": {
    "name": "ipython",
    "version": 3
   },
   "file_extension": ".py",
   "mimetype": "text/x-python",
   "name": "python",
   "nbconvert_exporter": "python",
   "pygments_lexer": "ipython3",
   "version": "3.11.8"
  }
 },
 "nbformat": 4,
 "nbformat_minor": 2
}
