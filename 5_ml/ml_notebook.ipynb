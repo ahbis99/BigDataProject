{
 "cells": [
  {
   "cell_type": "markdown",
   "metadata": {},
   "source": [
    "## Machine Learning\n",
    "\n",
    "Perform the data analysis in a “batch” manner using machine learning to predict events such as days with high number of tickets (think of and implement at least one additional interesting learning problem). \n",
    "\n",
    "You will need to appropriately transform the augmented data. \n",
    "\n",
    "Ensure that each single worker will not have enough memory to store and process the entire dataset (e.g., 8GB per worker). Use at least three kinds of supervised machine learning algorithms:\n",
    "\n",
    "1. One of the existing distributed algorithms from Dask-ML\n",
    "2. A sophisticated third-party algorithm which “natively” supports distributed computing (such as XGBoost or LightGBM)\n",
    "3. One of the common scikit-learn algorithms utilizing partial_fit.\n",
    "\n",
    "For all three scenarios compare performance in terms of loss (error), scalability, time, and total memory consumption.\n",
    "\n",
    "Note: scalability must be tested in the Arnes cluster by increasing the number of workers and\n",
    "observing the total processing time."
   ]
  },
  {
   "cell_type": "code",
   "execution_count": null,
   "metadata": {},
   "outputs": [],
   "source": []
  }
 ],
 "metadata": {
  "language_info": {
   "name": "python"
  }
 },
 "nbformat": 4,
 "nbformat_minor": 2
}
